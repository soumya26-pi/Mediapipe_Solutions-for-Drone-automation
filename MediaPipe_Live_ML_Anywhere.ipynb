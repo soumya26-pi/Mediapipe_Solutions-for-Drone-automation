{
  "nbformat": 4,
  "nbformat_minor": 5,
  "metadata": {
    "kernelspec": {
      "display_name": "Python 3",
      "language": "python",
      "name": "python3"
    },
    "language_info": {
      "codemirror_mode": {
        "name": "ipython",
        "version": 3
      },
      "file_extension": ".py",
      "mimetype": "text/x-python",
      "name": "python",
      "nbconvert_exporter": "python",
      "pygments_lexer": "ipython3",
      "version": "3.7.10"
    },
    "colab": {
      "name": "MediaPipe- Live ML Anywhere.ipynb",
      "provenance": []
    }
  },
  "cells": [
    {
      "cell_type": "markdown",
      "metadata": {
        "id": "0b7aed14"
      },
      "source": [
        "## MediaPipe"
      ],
      "id": "0b7aed14"
    },
    {
      "cell_type": "code",
      "metadata": {
        "colab": {
          "base_uri": "https://localhost:8080/"
        },
        "id": "56200681",
        "outputId": "d4576fa3-e805-44dd-805e-73d236b23761"
      },
      "source": [
        "!pip install mediapipe opencv-python"
      ],
      "id": "56200681",
      "execution_count": null,
      "outputs": [
        {
          "output_type": "stream",
          "name": "stdout",
          "text": [
            "Collecting mediapipe\n",
            "  Downloading mediapipe-0.8.9-cp37-cp37m-manylinux_2_17_x86_64.manylinux2014_x86_64.whl (32.8 MB)\n",
            "\u001b[K     |████████████████████████████████| 32.8 MB 49 kB/s \n",
            "\u001b[?25hRequirement already satisfied: opencv-python in /usr/local/lib/python3.7/dist-packages (4.1.2.30)\n",
            "Requirement already satisfied: opencv-contrib-python in /usr/local/lib/python3.7/dist-packages (from mediapipe) (4.1.2.30)\n",
            "Requirement already satisfied: matplotlib in /usr/local/lib/python3.7/dist-packages (from mediapipe) (3.2.2)\n",
            "Requirement already satisfied: wheel in /usr/local/lib/python3.7/dist-packages (from mediapipe) (0.37.0)\n",
            "Requirement already satisfied: numpy in /usr/local/lib/python3.7/dist-packages (from mediapipe) (1.19.5)\n",
            "Requirement already satisfied: attrs>=19.1.0 in /usr/local/lib/python3.7/dist-packages (from mediapipe) (21.2.0)\n",
            "Requirement already satisfied: six in /usr/local/lib/python3.7/dist-packages (from mediapipe) (1.15.0)\n",
            "Requirement already satisfied: absl-py in /usr/local/lib/python3.7/dist-packages (from mediapipe) (0.12.0)\n",
            "Requirement already satisfied: protobuf>=3.11.4 in /usr/local/lib/python3.7/dist-packages (from mediapipe) (3.17.3)\n",
            "Requirement already satisfied: cycler>=0.10 in /usr/local/lib/python3.7/dist-packages (from matplotlib->mediapipe) (0.10.0)\n",
            "Requirement already satisfied: pyparsing!=2.0.4,!=2.1.2,!=2.1.6,>=2.0.1 in /usr/local/lib/python3.7/dist-packages (from matplotlib->mediapipe) (2.4.7)\n",
            "Requirement already satisfied: python-dateutil>=2.1 in /usr/local/lib/python3.7/dist-packages (from matplotlib->mediapipe) (2.8.2)\n",
            "Requirement already satisfied: kiwisolver>=1.0.1 in /usr/local/lib/python3.7/dist-packages (from matplotlib->mediapipe) (1.3.2)\n",
            "Installing collected packages: mediapipe\n",
            "Successfully installed mediapipe-0.8.9\n"
          ]
        }
      ]
    },
    {
      "cell_type": "code",
      "metadata": {
        "id": "75c13a9e"
      },
      "source": [
        "import mediapipe as mp\n",
        "import cv2\n",
        "import numpy as np\n",
        "import uuid\n",
        "import os"
      ],
      "id": "75c13a9e",
      "execution_count": null,
      "outputs": []
    },
    {
      "cell_type": "code",
      "metadata": {
        "id": "b9ec0fa3"
      },
      "source": [
        "drawing_details = mp.solutions.drawing_utils\n",
        "hands_details = mp.solutions.hands"
      ],
      "id": "b9ec0fa3",
      "execution_count": null,
      "outputs": []
    },
    {
      "cell_type": "markdown",
      "metadata": {
        "id": "67a99a6d"
      },
      "source": [
        "![image.png](attachment:image.png)"
      ],
      "id": "67a99a6d"
    },
    {
      "cell_type": "markdown",
      "metadata": {
        "id": "0a64b7bc"
      },
      "source": [
        "![image.png](attachment:image.png)"
      ],
      "id": "0a64b7bc"
    },
    {
      "cell_type": "markdown",
      "metadata": {
        "id": "eb898bf6"
      },
      "source": [
        "### Face detection Using Media Pipe"
      ],
      "id": "eb898bf6"
    },
    {
      "cell_type": "code",
      "metadata": {
        "id": "aaccefb7"
      },
      "source": [
        "import cv2\n",
        "import mediapipe as mp\n",
        "mp_face_detection = mp.solutions.face_detection\n",
        "mp_drawing = mp.solutions.drawing_utils\n",
        "\n",
        "# For static images:\n",
        "IMAGE_FILES = []\n",
        "with mp_face_detection.FaceDetection(\n",
        "    model_selection=1, min_detection_confidence=0.5) as face_detection:\n",
        "  for idx, file in enumerate(IMAGE_FILES):\n",
        "    image = cv2.imread(file)\n",
        "    # Convert the BGR image to RGB and process it with MediaPipe Face Detection.\n",
        "    results = face_detection.process(cv2.cvtColor(image, cv2.COLOR_BGR2RGB))\n",
        "\n",
        "    # Draw face detections of each face.\n",
        "    if not results.detections:\n",
        "      continue\n",
        "    annotated_image = image.copy()\n",
        "    for detection in results.detections:\n",
        "      print('Nose tip:')\n",
        "      print(mp_face_detection.get_key_point(\n",
        "          detection, mp_face_detection.FaceKeyPoint.NOSE_TIP))\n",
        "      mp_drawing.draw_detection(annotated_image, detection)\n",
        "    cv2.imwrite('/tmp/annotated_image' + str(idx) + '.png', annotated_image)\n",
        "\n",
        "# For webcam input:\n",
        "cap = cv2.VideoCapture(0)\n",
        "with mp_face_detection.FaceDetection(\n",
        "    model_selection=0, min_detection_confidence=0.5) as face_detection:\n",
        "  while cap.isOpened():\n",
        "    success, image = cap.read()\n",
        "    if not success:\n",
        "      print(\"Ignoring empty camera frame.\")\n",
        "      # If loading a video, use 'break' instead of 'continue'.\n",
        "      continue\n",
        "\n",
        "    # Flip the image horizontally for a later selfie-view display, and convert\n",
        "    # the BGR image to RGB.\n",
        "    image = cv2.cvtColor(cv2.flip(image, 1), cv2.COLOR_BGR2RGB)\n",
        "    # To improve performance, optionally mark the image as not writeable to\n",
        "    # pass by reference.\n",
        "    image.flags.writeable = False\n",
        "    results = face_detection.process(image)\n",
        "\n",
        "    # Draw the face detection annotations on the image.\n",
        "    image.flags.writeable = True\n",
        "    image = cv2.cvtColor(image, cv2.COLOR_RGB2BGR)\n",
        "    if results.detections:\n",
        "      for detection in results.detections:\n",
        "        mp_drawing.draw_detection(image, detection)\n",
        "    cv2.imshow('MediaPipe Face Detection', image)\n",
        "    if cv2.waitKey(5) & 0xFF == 27:\n",
        "      break\n",
        "cap.release()"
      ],
      "id": "aaccefb7",
      "execution_count": null,
      "outputs": []
    },
    {
      "cell_type": "markdown",
      "metadata": {
        "id": "ed700ecf"
      },
      "source": [
        "## Face Mesh"
      ],
      "id": "ed700ecf"
    },
    {
      "cell_type": "code",
      "metadata": {
        "id": "71260754"
      },
      "source": [
        "import cv2\n",
        "import mediapipe as mp\n",
        "mp_drawing = mp.solutions.drawing_utils\n",
        "mp_face_mesh = mp.solutions.face_mesh\n",
        "\n",
        "# For static images:\n",
        "IMAGE_FILES = []\n",
        "drawing_spec = mp_drawing.DrawingSpec(thickness=1, circle_radius=1)\n",
        "with mp_face_mesh.FaceMesh(\n",
        "    static_image_mode=True,\n",
        "    max_num_faces=1,\n",
        "    min_detection_confidence=0.5) as face_mesh:\n",
        "  for idx, file in enumerate(IMAGE_FILES):\n",
        "    image = cv2.imread(file)\n",
        "    # Convert the BGR image to RGB before processing.\n",
        "    results = face_mesh.process(cv2.cvtColor(image, cv2.COLOR_BGR2RGB))\n",
        "\n",
        "    # Print and draw face mesh landmarks on the image.\n",
        "    if not results.multi_face_landmarks:\n",
        "      continue\n",
        "    annotated_image = image.copy()\n",
        "    for face_landmarks in results.multi_face_landmarks:\n",
        "      print('face_landmarks:', face_landmarks)\n",
        "      mp_drawing.draw_landmarks(\n",
        "          image=annotated_image,\n",
        "          landmark_list=face_landmarks,\n",
        "          connections=mp_face_mesh.FACE_CONNECTIONS,\n",
        "          landmark_drawing_spec=drawing_spec,\n",
        "          connection_drawing_spec=drawing_spec)\n",
        "    cv2.imwrite('/tmp/annotated_image' + str(idx) + '.png', annotated_image)\n",
        "\n",
        "# For webcam input:\n",
        "drawing_spec = mp_drawing.DrawingSpec(thickness=1, circle_radius=1)\n",
        "cap = cv2.VideoCapture(0)\n",
        "with mp_face_mesh.FaceMesh(\n",
        "    min_detection_confidence=0.5,\n",
        "    min_tracking_confidence=0.5) as face_mesh:\n",
        "  while cap.isOpened():\n",
        "    success, image = cap.read()\n",
        "    if not success:\n",
        "      print(\"Ignoring empty camera frame.\")\n",
        "      # If loading a video, use 'break' instead of 'continue'.\n",
        "      continue\n",
        "\n",
        "    # Flip the image horizontally for a later selfie-view display, and convert\n",
        "    # the BGR image to RGB.\n",
        "    image = cv2.cvtColor(cv2.flip(image, 1), cv2.COLOR_BGR2RGB)\n",
        "    # To improve performance, optionally mark the image as not writeable to\n",
        "    # pass by reference.\n",
        "    image.flags.writeable = False\n",
        "    results = face_mesh.process(image)\n",
        "\n",
        "    # Draw the face mesh annotations on the image.\n",
        "    image.flags.writeable = True\n",
        "    image = cv2.cvtColor(image, cv2.COLOR_RGB2BGR)\n",
        "    if results.multi_face_landmarks:\n",
        "      for face_landmarks in results.multi_face_landmarks:\n",
        "        mp_drawing.draw_landmarks(\n",
        "            image=image,\n",
        "            landmark_list=face_landmarks,\n",
        "            connections=mp_face_mesh.FACE_CONNECTIONS,\n",
        "            landmark_drawing_spec=drawing_spec,\n",
        "            connection_drawing_spec=drawing_spec)\n",
        "    cv2.imshow('MediaPipe FaceMesh', image)\n",
        "    if cv2.waitKey(10) & 0xFF == ord('q'):\n",
        "            break\n",
        "cap.release()"
      ],
      "id": "71260754",
      "execution_count": null,
      "outputs": []
    },
    {
      "cell_type": "markdown",
      "metadata": {
        "id": "69f2e249"
      },
      "source": [
        "## Hands Detection Using Media Pipe"
      ],
      "id": "69f2e249"
    },
    {
      "cell_type": "code",
      "metadata": {
        "id": "43d198c4"
      },
      "source": [
        "import cv2\n",
        "import mediapipe as mp\n",
        "mp_drawing = mp.solutions.drawing_utils\n",
        "mp_hands = mp.solutions.hands\n",
        "\n",
        "# For static images:\n",
        "IMAGE_FILES = []\n",
        "with mp_hands.Hands(\n",
        "    static_image_mode=True,\n",
        "    max_num_hands=2,\n",
        "    min_detection_confidence=0.5) as hands:\n",
        "  for idx, file in enumerate(IMAGE_FILES):\n",
        "    # Read an image, flip it around y-axis for correct handedness output (see\n",
        "    # above).\n",
        "    image = cv2.flip(cv2.imread(file), 1)\n",
        "    # Convert the BGR image to RGB before processing.\n",
        "    results = hands.process(cv2.cvtColor(image, cv2.COLOR_BGR2RGB))\n",
        "\n",
        "    # Print handedness and draw hand landmarks on the image.\n",
        "    print('Handedness:', results.multi_handedness)\n",
        "    if not results.multi_hand_landmarks:\n",
        "      continue\n",
        "    image_height, image_width, _ = image.shape\n",
        "    annotated_image = image.copy()\n",
        "    for hand_landmarks in results.multi_hand_landmarks:\n",
        "      print('hand_landmarks:', hand_landmarks)\n",
        "      print(\n",
        "          f'Index finger tip coordinates: (',\n",
        "          f'{hand_landmarks.landmark[mp_hands.HandLandmark.INDEX_FINGER_TIP].x * image_width}, '\n",
        "          f'{hand_landmarks.landmark[mp_hands.HandLandmark.INDEX_FINGER_TIP].y * image_height})'\n",
        "      )\n",
        "      mp_drawing.draw_landmarks(\n",
        "          annotated_image, hand_landmarks, mp_hands.HAND_CONNECTIONS)\n",
        "    cv2.imwrite(\n",
        "        '/tmp/annotated_image' + str(idx) + '.png', cv2.flip(annotated_image, 1))\n",
        "\n",
        "# For webcam input:\n",
        "cap = cv2.VideoCapture(0)\n",
        "with mp_hands.Hands(\n",
        "    min_detection_confidence=0.5,\n",
        "    min_tracking_confidence=0.5) as hands:\n",
        "  while cap.isOpened():\n",
        "    success, image = cap.read()\n",
        "    if not success:\n",
        "      print(\"Ignoring empty camera frame.\")\n",
        "      # If loading a video, use 'break' instead of 'continue'.\n",
        "      continue\n",
        "\n",
        "    # Flip the image horizontally for a later selfie-view display, and convert\n",
        "    # the BGR image to RGB.\n",
        "    image = cv2.cvtColor(cv2.flip(image, 1), cv2.COLOR_BGR2RGB)\n",
        "    # To improve performance, optionally mark the image as not writeable to\n",
        "    # pass by reference.\n",
        "    image.flags.writeable = False\n",
        "    results = hands.process(image)\n",
        "\n",
        "    # Draw the hand annotations on the image.\n",
        "    image.flags.writeable = True\n",
        "    image = cv2.cvtColor(image, cv2.COLOR_RGB2BGR)\n",
        "    if results.multi_hand_landmarks:\n",
        "      for hand_landmarks in results.multi_hand_landmarks:\n",
        "        mp_drawing.draw_landmarks(\n",
        "            image, hand_landmarks, mp_hands.HAND_CONNECTIONS)\n",
        "    cv2.imshow('MediaPipe Hands', image)\n",
        "    if cv2.waitKey(5) & 0xFF == 27:\n",
        "      break\n",
        "cap.release()"
      ],
      "id": "43d198c4",
      "execution_count": null,
      "outputs": []
    },
    {
      "cell_type": "markdown",
      "metadata": {
        "id": "5d5ac2b4"
      },
      "source": [
        "## OpenPose Using Media Pipe"
      ],
      "id": "5d5ac2b4"
    },
    {
      "cell_type": "code",
      "metadata": {
        "id": "63b0ec24"
      },
      "source": [
        "import cv2\n",
        "import mediapipe as mp\n",
        "mp_drawing = mp.solutions.drawing_utils\n",
        "mp_pose = mp.solutions.pose\n",
        "\n",
        "# For static images:\n",
        "IMAGE_FILES = []\n",
        "with mp_pose.Pose(\n",
        "    static_image_mode=True,\n",
        "    model_complexity=2,\n",
        "    min_detection_confidence=0.5) as pose:\n",
        "  for idx, file in enumerate(IMAGE_FILES):\n",
        "    image = cv2.imread(file)\n",
        "    image_height, image_width, _ = image.shape\n",
        "    # Convert the BGR image to RGB before processing.\n",
        "    results = pose.process(cv2.cvtColor(image, cv2.COLOR_BGR2RGB))\n",
        "\n",
        "    if not results.pose_landmarks:\n",
        "      continue\n",
        "    print(\n",
        "        f'Nose coordinates: ('\n",
        "        f'{results.pose_landmarks.landmark[mp_holistic.PoseLandmark.NOSE].x * image_width}, '\n",
        "        f'{results.pose_landmarks.landmark[mp_holistic.PoseLandmark.NOSE].y * image_height})'\n",
        "    )\n",
        "    # Draw pose landmarks on the image.\n",
        "    annotated_image = image.copy()\n",
        "    mp_drawing.draw_landmarks(\n",
        "        annotated_image, results.pose_landmarks, mp_pose.POSE_CONNECTIONS)\n",
        "    cv2.imwrite('/tmp/annotated_image' + str(idx) + '.png', annotated_image)\n",
        "    # Plot pose world landmarks.\n",
        "    mp_drawing.plot_landmarks(\n",
        "        results.pose_world_landmarks, mp_pose.POSE_CONNECTIONS)\n",
        "\n",
        "# For webcam input:\n",
        "cap = cv2.VideoCapture(0)\n",
        "with mp_pose.Pose(\n",
        "    min_detection_confidence=0.5,\n",
        "    min_tracking_confidence=0.5) as pose:\n",
        "  while cap.isOpened():\n",
        "    success, image = cap.read()\n",
        "    if not success:\n",
        "      print(\"Ignoring empty camera frame.\")\n",
        "      # If loading a video, use 'break' instead of 'continue'.\n",
        "      continue\n",
        "\n",
        "    # Flip the image horizontally for a later selfie-view display, and convert\n",
        "    # the BGR image to RGB.\n",
        "    image = cv2.cvtColor(cv2.flip(image, 1), cv2.COLOR_BGR2RGB)\n",
        "    # To improve performance, optionally mark the image as not writeable to\n",
        "    # pass by reference.\n",
        "    image.flags.writeable = False\n",
        "    results = pose.process(image)\n",
        "\n",
        "    # Draw the pose annotation on the image.\n",
        "    image.flags.writeable = True\n",
        "    image = cv2.cvtColor(image, cv2.COLOR_RGB2BGR)\n",
        "    mp_drawing.draw_landmarks(\n",
        "        image, results.pose_landmarks, mp_pose.POSE_CONNECTIONS)\n",
        "    cv2.imshow('MediaPipe Pose', image)\n",
        "    if cv2.waitKey(5) & 0xFF == 27:\n",
        "      break\n",
        "cap.release()"
      ],
      "id": "63b0ec24",
      "execution_count": null,
      "outputs": []
    },
    {
      "cell_type": "code",
      "metadata": {
        "id": "ed7c2f0c"
      },
      "source": [
        "import cv2\n",
        "import mediapipe as mp\n",
        "mp_drawing = mp.solutions.drawing_utils\n",
        "mp_holistic = mp.solutions.holistic\n",
        "\n",
        "# For static images:\n",
        "IMAGE_FILES = []\n",
        "with mp_holistic.Holistic(\n",
        "    static_image_mode=True,\n",
        "    model_complexity=2) as holistic:\n",
        "  for idx, file in enumerate(IMAGE_FILES):\n",
        "    image = cv2.imread(file)\n",
        "    image_height, image_width, _ = image.shape\n",
        "    # Convert the BGR image to RGB before processing.\n",
        "    results = holistic.process(cv2.cvtColor(image, cv2.COLOR_BGR2RGB))\n",
        "\n",
        "    if results.pose_landmarks:\n",
        "      print(\n",
        "          f'Nose coordinates: ('\n",
        "          f'{results.pose_landmarks.landmark[mp_holistic.PoseLandmark.NOSE].x * image_width}, '\n",
        "          f'{results.pose_landmarks.landmark[mp_holistic.PoseLandmark.NOSE].y * image_height})'\n",
        "      )\n",
        "    # Draw pose, left and right hands, and face landmarks on the image.\n",
        "    annotated_image = image.copy()\n",
        "    mp_drawing.draw_landmarks(\n",
        "        annotated_image, results.face_landmarks, mp_holistic.FACE_CONNECTIONS)\n",
        "    mp_drawing.draw_landmarks(\n",
        "        annotated_image, results.left_hand_landmarks, mp_holistic.HAND_CONNECTIONS)\n",
        "    mp_drawing.draw_landmarks(\n",
        "        annotated_image, results.right_hand_landmarks, mp_holistic.HAND_CONNECTIONS)\n",
        "    mp_drawing.draw_landmarks(\n",
        "        annotated_image, results.pose_landmarks, mp_holistic.POSE_CONNECTIONS)\n",
        "    cv2.imwrite('/tmp/annotated_image' + str(idx) + '.png', annotated_image)\n",
        "    # Plot pose world landmarks.\n",
        "    mp_drawing.plot_landmarks(\n",
        "        results.pose_world_landmarks, mp_holistic.POSE_CONNECTIONS)\n",
        "\n",
        "# For webcam input:\n",
        "cap = cv2.VideoCapture(0)\n",
        "with mp_holistic.Holistic(\n",
        "    min_detection_confidence=0.5,\n",
        "    min_tracking_confidence=0.5) as holistic:\n",
        "  while cap.isOpened():\n",
        "    success, image = cap.read()\n",
        "    if not success:\n",
        "      print(\"Ignoring empty camera frame.\")\n",
        "      # If loading a video, use 'break' instead of 'continue'.\n",
        "      continue\n",
        "\n",
        "    # Flip the image horizontally for a later selfie-view display, and convert\n",
        "    # the BGR image to RGB.\n",
        "    image = cv2.cvtColor(cv2.flip(image, 1), cv2.COLOR_BGR2RGB)\n",
        "    # To improve performance, optionally mark the image as not writeable to\n",
        "    # pass by reference.\n",
        "    image.flags.writeable = False\n",
        "    results = holistic.process(image)\n",
        "\n",
        "    # Draw landmark annotation on the image.\n",
        "    image.flags.writeable = True\n",
        "    image = cv2.cvtColor(image, cv2.COLOR_RGB2BGR)\n",
        "    mp_drawing.draw_landmarks(\n",
        "        image, results.face_landmarks, mp_holistic.FACE_CONNECTIONS)\n",
        "    mp_drawing.draw_landmarks(\n",
        "        image, results.left_hand_landmarks, mp_holistic.HAND_CONNECTIONS)\n",
        "    mp_drawing.draw_landmarks(\n",
        "        image, results.right_hand_landmarks, mp_holistic.HAND_CONNECTIONS)\n",
        "    mp_drawing.draw_landmarks(\n",
        "        image, results.pose_landmarks, mp_holistic.POSE_CONNECTIONS)\n",
        "    cv2.imshow('MediaPipe Holistic', image)\n",
        "    if cv2.waitKey(5) & 0xFF == 27:\n",
        "      break\n",
        "cap.release()"
      ],
      "id": "ed7c2f0c",
      "execution_count": null,
      "outputs": []
    },
    {
      "cell_type": "code",
      "metadata": {
        "id": "3867b139"
      },
      "source": [
        ""
      ],
      "id": "3867b139",
      "execution_count": null,
      "outputs": []
    }
  ]
}